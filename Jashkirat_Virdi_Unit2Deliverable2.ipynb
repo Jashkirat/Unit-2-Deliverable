{
 "cells": [
  {
   "cell_type": "markdown",
   "id": "1bca20f8-c3f1-4f8e-a103-70bf37a8e67f",
   "metadata": {
    "tags": []
   },
   "source": [
    "## Stats and Public Health Deliverable 2 - Jashkirat Virdi"
   ]
  },
  {
   "cell_type": "code",
   "execution_count": 1,
   "id": "ed1aec9b-c017-4c6f-a73e-9818c5d1efca",
   "metadata": {
    "tags": []
   },
   "outputs": [
    {
     "name": "stdout",
     "output_type": "stream",
     "text": [
      "<class 'pandas.core.frame.DataFrame'>\n",
      "RangeIndex: 18495 entries, 0 to 18494\n",
      "Data columns (total 12 columns):\n",
      " #   Column           Non-Null Count  Dtype  \n",
      "---  ------           --------------  -----  \n",
      " 0   Year             18495 non-null  int64  \n",
      " 1   Week             18495 non-null  int64  \n",
      " 2   Address Block    18495 non-null  object \n",
      " 3   Trap             18495 non-null  object \n",
      " 4   Trap type        18495 non-null  object \n",
      " 5   Date             18495 non-null  object \n",
      " 6   Mosquito number  18495 non-null  int64  \n",
      " 7   WNV Present      18495 non-null  object \n",
      " 8   Species          18495 non-null  object \n",
      " 9   Lat              18495 non-null  float64\n",
      " 10  Lon              18495 non-null  float64\n",
      " 11  Month            18495 non-null  int64  \n",
      "dtypes: float64(2), int64(4), object(6)\n",
      "memory usage: 1.7+ MB\n",
      "None\n"
     ]
    },
    {
     "data": {
      "text/html": [
       "<div>\n",
       "<style scoped>\n",
       "    .dataframe tbody tr th:only-of-type {\n",
       "        vertical-align: middle;\n",
       "    }\n",
       "\n",
       "    .dataframe tbody tr th {\n",
       "        vertical-align: top;\n",
       "    }\n",
       "\n",
       "    .dataframe thead th {\n",
       "        text-align: right;\n",
       "    }\n",
       "</style>\n",
       "<table border=\"1\" class=\"dataframe\">\n",
       "  <thead>\n",
       "    <tr style=\"text-align: right;\">\n",
       "      <th></th>\n",
       "      <th>Year</th>\n",
       "      <th>Week</th>\n",
       "      <th>Address Block</th>\n",
       "      <th>Trap</th>\n",
       "      <th>Trap type</th>\n",
       "      <th>Date</th>\n",
       "      <th>Mosquito number</th>\n",
       "      <th>WNV Present</th>\n",
       "      <th>Species</th>\n",
       "      <th>Lat</th>\n",
       "      <th>Lon</th>\n",
       "      <th>Month</th>\n",
       "    </tr>\n",
       "  </thead>\n",
       "  <tbody>\n",
       "    <tr>\n",
       "      <th>0</th>\n",
       "      <td>2019</td>\n",
       "      <td>39</td>\n",
       "      <td>100XX W OHARE AIRPORT</td>\n",
       "      <td>T910</td>\n",
       "      <td>GRAVID</td>\n",
       "      <td>2019-09-26 00:09:00</td>\n",
       "      <td>2</td>\n",
       "      <td>negative</td>\n",
       "      <td>CULEX RESTUANS</td>\n",
       "      <td>41.977738</td>\n",
       "      <td>-87.880969</td>\n",
       "      <td>9</td>\n",
       "    </tr>\n",
       "    <tr>\n",
       "      <th>1</th>\n",
       "      <td>2019</td>\n",
       "      <td>39</td>\n",
       "      <td>52XX S KOLMAR AVE</td>\n",
       "      <td>T114</td>\n",
       "      <td>GRAVID</td>\n",
       "      <td>2019-09-26 00:09:00</td>\n",
       "      <td>1</td>\n",
       "      <td>negative</td>\n",
       "      <td>CULEX RESTUANS</td>\n",
       "      <td>41.798211</td>\n",
       "      <td>-87.736925</td>\n",
       "      <td>9</td>\n",
       "    </tr>\n",
       "    <tr>\n",
       "      <th>2</th>\n",
       "      <td>2019</td>\n",
       "      <td>39</td>\n",
       "      <td>58XX N WESTERN AVE</td>\n",
       "      <td>T028</td>\n",
       "      <td>GRAVID</td>\n",
       "      <td>2019-09-26 00:09:00</td>\n",
       "      <td>2</td>\n",
       "      <td>negative</td>\n",
       "      <td>CULEX RESTUANS</td>\n",
       "      <td>41.987245</td>\n",
       "      <td>-87.689417</td>\n",
       "      <td>9</td>\n",
       "    </tr>\n",
       "    <tr>\n",
       "      <th>3</th>\n",
       "      <td>2019</td>\n",
       "      <td>39</td>\n",
       "      <td>39XX N SPRINGFIELD AVE</td>\n",
       "      <td>T228</td>\n",
       "      <td>GRAVID</td>\n",
       "      <td>2019-09-26 00:09:00</td>\n",
       "      <td>1</td>\n",
       "      <td>negative</td>\n",
       "      <td>CULEX RESTUANS</td>\n",
       "      <td>41.953664</td>\n",
       "      <td>-87.724987</td>\n",
       "      <td>9</td>\n",
       "    </tr>\n",
       "    <tr>\n",
       "      <th>4</th>\n",
       "      <td>2019</td>\n",
       "      <td>39</td>\n",
       "      <td>131XX S BRANDON AVE</td>\n",
       "      <td>T209</td>\n",
       "      <td>GRAVID</td>\n",
       "      <td>2019-09-26 00:09:00</td>\n",
       "      <td>9</td>\n",
       "      <td>negative</td>\n",
       "      <td>CULEX RESTUANS</td>\n",
       "      <td>41.657069</td>\n",
       "      <td>-87.546049</td>\n",
       "      <td>9</td>\n",
       "    </tr>\n",
       "  </tbody>\n",
       "</table>\n",
       "</div>"
      ],
      "text/plain": [
       "   Year  Week           Address Block  Trap Trap type                 Date  \\\n",
       "0  2019    39   100XX W OHARE AIRPORT  T910    GRAVID  2019-09-26 00:09:00   \n",
       "1  2019    39       52XX S KOLMAR AVE  T114    GRAVID  2019-09-26 00:09:00   \n",
       "2  2019    39      58XX N WESTERN AVE  T028    GRAVID  2019-09-26 00:09:00   \n",
       "3  2019    39  39XX N SPRINGFIELD AVE  T228    GRAVID  2019-09-26 00:09:00   \n",
       "4  2019    39     131XX S BRANDON AVE  T209    GRAVID  2019-09-26 00:09:00   \n",
       "\n",
       "   Mosquito number WNV Present         Species        Lat        Lon  Month  \n",
       "0                2    negative  CULEX RESTUANS  41.977738 -87.880969      9  \n",
       "1                1    negative  CULEX RESTUANS  41.798211 -87.736925      9  \n",
       "2                2    negative  CULEX RESTUANS  41.987245 -87.689417      9  \n",
       "3                1    negative  CULEX RESTUANS  41.953664 -87.724987      9  \n",
       "4                9    negative  CULEX RESTUANS  41.657069 -87.546049      9  "
      ]
     },
     "execution_count": 1,
     "metadata": {},
     "output_type": "execute_result"
    }
   ],
   "source": [
    "import pandas as pd\n",
    "import numpy as np\n",
    "import matplotlib.pyplot as plt\n",
    "import seaborn as sns\n",
    "from scipy.stats import chi2_contingency\n",
    "import statsmodels.api as sm\n",
    "from statsmodels.formula.api import ols\n",
    "\n",
    "# Load the dataset\n",
    "data = pd.read_csv('mosquito_data_part_2.csv')\n",
    "\n",
    "# Display basic information and the first few rows of the dataset\n",
    "print(data.info())\n",
    "data.head()"
   ]
  },
  {
   "cell_type": "markdown",
   "id": "0b0f0fa8-dd81-4395-b1e8-e36220ce841a",
   "metadata": {},
   "source": [
    "## Part 1 - Basic Analysis"
   ]
  },
  {
   "cell_type": "code",
   "execution_count": 2,
   "id": "b2375331-c989-44c2-bdee-10125028be14",
   "metadata": {
    "tags": []
   },
   "outputs": [],
   "source": [
    "# Convert 'WNV Present' to binary\n",
    "data['WNV Present'] = data['WNV Present'].apply(lambda x: 1 if x == 'positive' else 0)\n",
    "\n",
    "# Create dummy variables for 'Trap type'\n",
    "data = pd.concat([data, pd.get_dummies(data['Trap type'], prefix='TrapType',dtype=int)], axis=1)"
   ]
  },
  {
   "cell_type": "code",
   "execution_count": 3,
   "id": "041bf80a-9df4-46ac-87b3-ef61518d0ce3",
   "metadata": {
    "tags": []
   },
   "outputs": [],
   "source": [
    "# Drop the original 'Trap type' column and other non-useful columns\n",
    "data = data.drop(columns=['Trap type', 'Address Block', 'Trap', 'Date'])"
   ]
  },
  {
   "cell_type": "code",
   "execution_count": 4,
   "id": "c91ec6a2-1b21-485a-a933-54bf7e2204ac",
   "metadata": {
    "tags": []
   },
   "outputs": [
    {
     "data": {
      "text/html": [
       "<div>\n",
       "<style scoped>\n",
       "    .dataframe tbody tr th:only-of-type {\n",
       "        vertical-align: middle;\n",
       "    }\n",
       "\n",
       "    .dataframe tbody tr th {\n",
       "        vertical-align: top;\n",
       "    }\n",
       "\n",
       "    .dataframe thead th {\n",
       "        text-align: right;\n",
       "    }\n",
       "</style>\n",
       "<table border=\"1\" class=\"dataframe\">\n",
       "  <thead>\n",
       "    <tr style=\"text-align: right;\">\n",
       "      <th></th>\n",
       "      <th>Year</th>\n",
       "      <th>Week</th>\n",
       "      <th>Mosquito number</th>\n",
       "      <th>WNV Present</th>\n",
       "      <th>Species</th>\n",
       "      <th>Lat</th>\n",
       "      <th>Lon</th>\n",
       "      <th>Month</th>\n",
       "      <th>TrapType_CDC</th>\n",
       "      <th>TrapType_GRAVID</th>\n",
       "      <th>TrapType_OVI</th>\n",
       "      <th>TrapType_SENTINEL</th>\n",
       "    </tr>\n",
       "  </thead>\n",
       "  <tbody>\n",
       "    <tr>\n",
       "      <th>0</th>\n",
       "      <td>2019</td>\n",
       "      <td>39</td>\n",
       "      <td>2</td>\n",
       "      <td>0</td>\n",
       "      <td>CULEX RESTUANS</td>\n",
       "      <td>41.977738</td>\n",
       "      <td>-87.880969</td>\n",
       "      <td>9</td>\n",
       "      <td>0</td>\n",
       "      <td>1</td>\n",
       "      <td>0</td>\n",
       "      <td>0</td>\n",
       "    </tr>\n",
       "    <tr>\n",
       "      <th>1</th>\n",
       "      <td>2019</td>\n",
       "      <td>39</td>\n",
       "      <td>1</td>\n",
       "      <td>0</td>\n",
       "      <td>CULEX RESTUANS</td>\n",
       "      <td>41.798211</td>\n",
       "      <td>-87.736925</td>\n",
       "      <td>9</td>\n",
       "      <td>0</td>\n",
       "      <td>1</td>\n",
       "      <td>0</td>\n",
       "      <td>0</td>\n",
       "    </tr>\n",
       "    <tr>\n",
       "      <th>2</th>\n",
       "      <td>2019</td>\n",
       "      <td>39</td>\n",
       "      <td>2</td>\n",
       "      <td>0</td>\n",
       "      <td>CULEX RESTUANS</td>\n",
       "      <td>41.987245</td>\n",
       "      <td>-87.689417</td>\n",
       "      <td>9</td>\n",
       "      <td>0</td>\n",
       "      <td>1</td>\n",
       "      <td>0</td>\n",
       "      <td>0</td>\n",
       "    </tr>\n",
       "    <tr>\n",
       "      <th>3</th>\n",
       "      <td>2019</td>\n",
       "      <td>39</td>\n",
       "      <td>1</td>\n",
       "      <td>0</td>\n",
       "      <td>CULEX RESTUANS</td>\n",
       "      <td>41.953664</td>\n",
       "      <td>-87.724987</td>\n",
       "      <td>9</td>\n",
       "      <td>0</td>\n",
       "      <td>1</td>\n",
       "      <td>0</td>\n",
       "      <td>0</td>\n",
       "    </tr>\n",
       "    <tr>\n",
       "      <th>4</th>\n",
       "      <td>2019</td>\n",
       "      <td>39</td>\n",
       "      <td>9</td>\n",
       "      <td>0</td>\n",
       "      <td>CULEX RESTUANS</td>\n",
       "      <td>41.657069</td>\n",
       "      <td>-87.546049</td>\n",
       "      <td>9</td>\n",
       "      <td>0</td>\n",
       "      <td>1</td>\n",
       "      <td>0</td>\n",
       "      <td>0</td>\n",
       "    </tr>\n",
       "  </tbody>\n",
       "</table>\n",
       "</div>"
      ],
      "text/plain": [
       "   Year  Week  Mosquito number  WNV Present         Species        Lat  \\\n",
       "0  2019    39                2            0  CULEX RESTUANS  41.977738   \n",
       "1  2019    39                1            0  CULEX RESTUANS  41.798211   \n",
       "2  2019    39                2            0  CULEX RESTUANS  41.987245   \n",
       "3  2019    39                1            0  CULEX RESTUANS  41.953664   \n",
       "4  2019    39                9            0  CULEX RESTUANS  41.657069   \n",
       "\n",
       "         Lon  Month  TrapType_CDC  TrapType_GRAVID  TrapType_OVI  \\\n",
       "0 -87.880969      9             0                1             0   \n",
       "1 -87.736925      9             0                1             0   \n",
       "2 -87.689417      9             0                1             0   \n",
       "3 -87.724987      9             0                1             0   \n",
       "4 -87.546049      9             0                1             0   \n",
       "\n",
       "   TrapType_SENTINEL  \n",
       "0                  0  \n",
       "1                  0  \n",
       "2                  0  \n",
       "3                  0  \n",
       "4                  0  "
      ]
     },
     "execution_count": 4,
     "metadata": {},
     "output_type": "execute_result"
    }
   ],
   "source": [
    "data.head()"
   ]
  },
  {
   "cell_type": "code",
   "execution_count": 5,
   "id": "89097ee6-be40-4c34-b324-cd36551407fa",
   "metadata": {
    "tags": []
   },
   "outputs": [
    {
     "data": {
      "image/png": "[encoded data removed]",
      "text/plain": [
       "<Figure size 1000x600 with 1 Axes>"
      ]
     },
     "metadata": {},
     "output_type": "display_data"
    }
   ],
   "source": [
    "# Calculate and plot the average number of mosquitoes for each month\n",
    "average_mosquitoes_per_month = data.groupby('Month')['Mosquito number'].mean().reset_index()\n",
    "\n",
    "plt.figure(figsize=(10, 6))\n",
    "sns.barplot(x='Month', y='Mosquito number', data=average_mosquitoes_per_month)\n",
    "plt.title('Average Number of Mosquitoes per Month')\n",
    "plt.xlabel('Month')\n",
    "plt.ylabel('Average Number of Mosquitoes')\n",
    "plt.show()\n"
   ]
  },
  {
   "cell_type": "markdown",
   "id": "8db3d230-5f5a-415d-a068-4868f9e804d1",
   "metadata": {},
   "source": [
    "The average number of mosquitoes caught per month varies, with a peak in August (12.11 mosquitoes on average) and the lowest in May (2.76 mosquitoes on average). The trend suggests that mosquito activity is higher in the warmer months."
   ]
  },
  {
   "cell_type": "markdown",
   "id": "269f3d0f-de90-4635-a621-399390a88e8c",
   "metadata": {},
   "source": [
    "## Part 2 - Statistical Analysis"
   ]
  },
  {
   "cell_type": "code",
   "execution_count": 6,
   "id": "24a56c43-e52b-4195-8bcf-a7d0f48ab7f3",
   "metadata": {
    "tags": []
   },
   "outputs": [
    {
     "name": "stdout",
     "output_type": "stream",
     "text": [
      "Chi-square test p-value: 3.9302341764409087e-67\n"
     ]
    }
   ],
   "source": [
    "from scipy.stats import chi2_contingency\n",
    "\n",
    "# Perform a chi-square test\n",
    "contingency_table = pd.crosstab(data['Species'], data['WNV Present'])\n",
    "chi2, p, dof, expected = chi2_contingency(contingency_table)\n",
    "print(f\"Chi-square test p-value: {p}\")\n"
   ]
  },
  {
   "cell_type": "markdown",
   "id": "436ab03f-3ced-49b3-904e-3e6c2a4ded08",
   "metadata": {},
   "source": [
    "The chi-square test yields a p-value of approximately 3.93x10^-67, indicating a statistically significant difference in WNV presence across different mosquito species."
   ]
  },
  {
   "cell_type": "code",
   "execution_count": null,
   "id": "6af0ca91-5cb2-444a-aef3-cf0532f71e51",
   "metadata": {
    "tags": []
   },
   "outputs": [],
   "source": [
    "# Select only numeric columns for correlation\n",
    "numeric_data = data.select_dtypes(include=[np.number])\n",
    "\n",
    "# Generate a correlation heatmap\n",
    "plt.figure(figsize=(10, 8))\n",
    "sns.heatmap(numeric_data.corr(), annot=True, fmt=\".2f\")\n",
    "plt.title('Correlation Matrix')\n",
    "plt.show()"
   ]
  },
  {
   "cell_type": "markdown",
   "id": "f6ffacc7-c368-4de5-9935-52b982397d30",
   "metadata": {},
   "source": [
    "Negative Correlations: Longitude, TrapType_GRAVID, Month, Week, and TrapType_OVI are negatively correlated with mosquito numbers.\n",
    "Positive Correlations: TrapType_CDC, Latitude, TrapType_SENTINEL, Year, and WNV Present are positively correlated with mosquito numbers. Notably, WNV Present has a relatively strong positive correlation (0.408) with mosquito numbers."
   ]
  },
  {
   "cell_type": "markdown",
   "id": "f79af2aa-3bbc-48b3-a39d-aa2ab0a783a1",
   "metadata": {},
   "source": [
    "## Part 3 - Advanced Statistical Analysis"
   ]
  },
  {
   "cell_type": "code",
   "execution_count": 8,
   "id": "37b91e00-9c65-4544-b5fe-0d828f285aa2",
   "metadata": {
    "tags": []
   },
   "outputs": [],
   "source": [
    "data = data.drop(columns=['TrapType_OVI','WNV Present'])"
   ]
  },
  {
   "cell_type": "code",
   "execution_count": 9,
   "id": "7c599b91-702e-4ad9-a2a5-3620b2668663",
   "metadata": {
    "tags": []
   },
   "outputs": [],
   "source": [
    "# Independet Variable \n",
    "X = data[['Year', 'Week', 'Month', 'TrapType_CDC', 'TrapType_GRAVID', 'TrapType_SENTINEL']]\n",
    "\n",
    "# The dependent variable\n",
    "y = data['Mosquito number']"
   ]
  },
  {
   "cell_type": "code",
   "execution_count": 11,
   "id": "0601a08b-7d02-42a0-af1c-0a1e0c867d27",
   "metadata": {
    "tags": []
   },
   "outputs": [
    {
     "data": {
      "text/html": [
       "<div>\n",
       "<style scoped>\n",
       "    .dataframe tbody tr th:only-of-type {\n",
       "        vertical-align: middle;\n",
       "    }\n",
       "\n",
       "    .dataframe tbody tr th {\n",
       "        vertical-align: top;\n",
       "    }\n",
       "\n",
       "    .dataframe thead th {\n",
       "        text-align: right;\n",
       "    }\n",
       "</style>\n",
       "<table border=\"1\" class=\"dataframe\">\n",
       "  <thead>\n",
       "    <tr style=\"text-align: right;\">\n",
       "      <th></th>\n",
       "      <th>Year</th>\n",
       "      <th>Week</th>\n",
       "      <th>Mosquito number</th>\n",
       "      <th>Species</th>\n",
       "      <th>Lat</th>\n",
       "      <th>Lon</th>\n",
       "      <th>Month</th>\n",
       "      <th>TrapType_CDC</th>\n",
       "      <th>TrapType_GRAVID</th>\n",
       "      <th>TrapType_SENTINEL</th>\n",
       "    </tr>\n",
       "  </thead>\n",
       "  <tbody>\n",
       "    <tr>\n",
       "      <th>0</th>\n",
       "      <td>2019</td>\n",
       "      <td>39</td>\n",
       "      <td>2</td>\n",
       "      <td>CULEX RESTUANS</td>\n",
       "      <td>41.977738</td>\n",
       "      <td>-87.880969</td>\n",
       "      <td>9</td>\n",
       "      <td>0</td>\n",
       "      <td>1</td>\n",
       "      <td>0</td>\n",
       "    </tr>\n",
       "    <tr>\n",
       "      <th>1</th>\n",
       "      <td>2019</td>\n",
       "      <td>39</td>\n",
       "      <td>1</td>\n",
       "      <td>CULEX RESTUANS</td>\n",
       "      <td>41.798211</td>\n",
       "      <td>-87.736925</td>\n",
       "      <td>9</td>\n",
       "      <td>0</td>\n",
       "      <td>1</td>\n",
       "      <td>0</td>\n",
       "    </tr>\n",
       "    <tr>\n",
       "      <th>2</th>\n",
       "      <td>2019</td>\n",
       "      <td>39</td>\n",
       "      <td>2</td>\n",
       "      <td>CULEX RESTUANS</td>\n",
       "      <td>41.987245</td>\n",
       "      <td>-87.689417</td>\n",
       "      <td>9</td>\n",
       "      <td>0</td>\n",
       "      <td>1</td>\n",
       "      <td>0</td>\n",
       "    </tr>\n",
       "    <tr>\n",
       "      <th>3</th>\n",
       "      <td>2019</td>\n",
       "      <td>39</td>\n",
       "      <td>1</td>\n",
       "      <td>CULEX RESTUANS</td>\n",
       "      <td>41.953664</td>\n",
       "      <td>-87.724987</td>\n",
       "      <td>9</td>\n",
       "      <td>0</td>\n",
       "      <td>1</td>\n",
       "      <td>0</td>\n",
       "    </tr>\n",
       "    <tr>\n",
       "      <th>4</th>\n",
       "      <td>2019</td>\n",
       "      <td>39</td>\n",
       "      <td>9</td>\n",
       "      <td>CULEX RESTUANS</td>\n",
       "      <td>41.657069</td>\n",
       "      <td>-87.546049</td>\n",
       "      <td>9</td>\n",
       "      <td>0</td>\n",
       "      <td>1</td>\n",
       "      <td>0</td>\n",
       "    </tr>\n",
       "  </tbody>\n",
       "</table>\n",
       "</div>"
      ],
      "text/plain": [
       "   Year  Week  Mosquito number         Species        Lat        Lon  Month  \\\n",
       "0  2019    39                2  CULEX RESTUANS  41.977738 -87.880969      9   \n",
       "1  2019    39                1  CULEX RESTUANS  41.798211 -87.736925      9   \n",
       "2  2019    39                2  CULEX RESTUANS  41.987245 -87.689417      9   \n",
       "3  2019    39                1  CULEX RESTUANS  41.953664 -87.724987      9   \n",
       "4  2019    39                9  CULEX RESTUANS  41.657069 -87.546049      9   \n",
       "\n",
       "   TrapType_CDC  TrapType_GRAVID  TrapType_SENTINEL  \n",
       "0             0                1                  0  \n",
       "1             0                1                  0  \n",
       "2             0                1                  0  \n",
       "3             0                1                  0  \n",
       "4             0                1                  0  "
      ]
     },
     "execution_count": 11,
     "metadata": {},
     "output_type": "execute_result"
    }
   ],
   "source": [
    "data.head()"
   ]
  },
  {
   "cell_type": "code",
   "execution_count": 12,
   "id": "26bec998-4152-44c6-8775-56cc399f527d",
   "metadata": {
    "tags": []
   },
   "outputs": [],
   "source": [
    "# Add a constant to the model (the intercept)\n",
    "X_withconstant = sm.add_constant(X) "
   ]
  },
  {
   "cell_type": "code",
   "execution_count": 13,
   "id": "c91af9ce-d5ad-445c-9ae7-6a61a6071117",
   "metadata": {
    "tags": []
   },
   "outputs": [
    {
     "data": {
      "text/html": [
       "<table class=\"simpletable\">\n",
       "<caption>OLS Regression Results</caption>\n",
       "<tr>\n",
       "  <th>Dep. Variable:</th>     <td>Mosquito number</td> <th>  R-squared:         </th> <td>   0.044</td> \n",
       "</tr>\n",
       "<tr>\n",
       "  <th>Model:</th>                   <td>OLS</td>       <th>  Adj. R-squared:    </th> <td>   0.044</td> \n",
       "</tr>\n",
       "<tr>\n",
       "  <th>Method:</th>             <td>Least Squares</td>  <th>  F-statistic:       </th> <td>   141.9</td> \n",
       "</tr>\n",
       "<tr>\n",
       "  <th>Date:</th>             <td>Tue, 05 Mar 2024</td> <th>  Prob (F-statistic):</th> <td>1.37e-176</td>\n",
       "</tr>\n",
       "<tr>\n",
       "  <th>Time:</th>                 <td>22:05:17</td>     <th>  Log-Likelihood:    </th> <td> -73929.</td> \n",
       "</tr>\n",
       "<tr>\n",
       "  <th>No. Observations:</th>      <td> 18495</td>      <th>  AIC:               </th> <td>1.479e+05</td>\n",
       "</tr>\n",
       "<tr>\n",
       "  <th>Df Residuals:</th>          <td> 18488</td>      <th>  BIC:               </th> <td>1.479e+05</td>\n",
       "</tr>\n",
       "<tr>\n",
       "  <th>Df Model:</th>              <td>     6</td>      <th>                     </th>     <td> </td>    \n",
       "</tr>\n",
       "<tr>\n",
       "  <th>Covariance Type:</th>      <td>nonrobust</td>    <th>                     </th>     <td> </td>    \n",
       "</tr>\n",
       "</table>\n",
       "<table class=\"simpletable\">\n",
       "<tr>\n",
       "          <td></td>             <th>coef</th>     <th>std err</th>      <th>t</th>      <th>P>|t|</th>  <th>[0.025</th>    <th>0.975]</th>  \n",
       "</tr>\n",
       "<tr>\n",
       "  <th>const</th>             <td>-1091.4081</td> <td>   57.577</td> <td>  -18.956</td> <td> 0.000</td> <td>-1204.264</td> <td> -978.552</td>\n",
       "</tr>\n",
       "<tr>\n",
       "  <th>Year</th>              <td>    0.5458</td> <td>    0.028</td> <td>   19.573</td> <td> 0.000</td> <td>    0.491</td> <td>    0.600</td>\n",
       "</tr>\n",
       "<tr>\n",
       "  <th>Week</th>              <td>   -0.0676</td> <td>    0.073</td> <td>   -0.926</td> <td> 0.355</td> <td>   -0.211</td> <td>    0.076</td>\n",
       "</tr>\n",
       "<tr>\n",
       "  <th>Month</th>             <td>   -0.2371</td> <td>    0.319</td> <td>   -0.744</td> <td> 0.457</td> <td>   -0.862</td> <td>    0.388</td>\n",
       "</tr>\n",
       "<tr>\n",
       "  <th>TrapType_CDC</th>      <td>   18.0691</td> <td>   13.191</td> <td>    1.370</td> <td> 0.171</td> <td>   -7.786</td> <td>   43.924</td>\n",
       "</tr>\n",
       "<tr>\n",
       "  <th>TrapType_GRAVID</th>   <td>    7.1275</td> <td>   13.180</td> <td>    0.541</td> <td> 0.589</td> <td>  -18.706</td> <td>   32.961</td>\n",
       "</tr>\n",
       "<tr>\n",
       "  <th>TrapType_SENTINEL</th> <td>   19.0232</td> <td>   13.214</td> <td>    1.440</td> <td> 0.150</td> <td>   -6.877</td> <td>   44.923</td>\n",
       "</tr>\n",
       "</table>\n",
       "<table class=\"simpletable\">\n",
       "<tr>\n",
       "  <th>Omnibus:</th>       <td>4735.789</td> <th>  Durbin-Watson:     </th> <td>   1.523</td>\n",
       "</tr>\n",
       "<tr>\n",
       "  <th>Prob(Omnibus):</th>  <td> 0.000</td>  <th>  Jarque-Bera (JB):  </th> <td>9574.472</td>\n",
       "</tr>\n",
       "<tr>\n",
       "  <th>Skew:</th>           <td> 1.563</td>  <th>  Prob(JB):          </th> <td>    0.00</td>\n",
       "</tr>\n",
       "<tr>\n",
       "  <th>Kurtosis:</th>       <td> 4.627</td>  <th>  Cond. No.          </th> <td>1.20e+06</td>\n",
       "</tr>\n",
       "</table><br/><br/>Notes:<br/>[1] Standard Errors assume that the covariance matrix of the errors is correctly specified.<br/>[2] The condition number is large, 1.2e+06. This might indicate that there are<br/>strong multicollinearity or other numerical problems."
      ],
      "text/latex": [
       "\\begin{center}\n",
       "\\begin{tabular}{lclc}\n",
       "\\toprule\n",
       "\\textbf{Dep. Variable:}     & Mosquito number  & \\textbf{  R-squared:         } &     0.044   \\\\\n",
       "\\textbf{Model:}             &       OLS        & \\textbf{  Adj. R-squared:    } &     0.044   \\\\\n",
       "\\textbf{Method:}            &  Least Squares   & \\textbf{  F-statistic:       } &     141.9   \\\\\n",
       "\\textbf{Date:}              & Tue, 05 Mar 2024 & \\textbf{  Prob (F-statistic):} & 1.37e-176   \\\\\n",
       "\\textbf{Time:}              &     22:05:17     & \\textbf{  Log-Likelihood:    } &   -73929.   \\\\\n",
       "\\textbf{No. Observations:}  &       18495      & \\textbf{  AIC:               } & 1.479e+05   \\\\\n",
       "\\textbf{Df Residuals:}      &       18488      & \\textbf{  BIC:               } & 1.479e+05   \\\\\n",
       "\\textbf{Df Model:}          &           6      & \\textbf{                     } &             \\\\\n",
       "\\textbf{Covariance Type:}   &    nonrobust     & \\textbf{                     } &             \\\\\n",
       "\\bottomrule\n",
       "\\end{tabular}\n",
       "\\begin{tabular}{lcccccc}\n",
       "                            & \\textbf{coef} & \\textbf{std err} & \\textbf{t} & \\textbf{P$> |$t$|$} & \\textbf{[0.025} & \\textbf{0.975]}  \\\\\n",
       "\\midrule\n",
       "\\textbf{const}              &   -1091.4081  &       57.577     &   -18.956  &         0.000        &    -1204.264    &     -978.552     \\\\\n",
       "\\textbf{Year}               &       0.5458  &        0.028     &    19.573  &         0.000        &        0.491    &        0.600     \\\\\n",
       "\\textbf{Week}               &      -0.0676  &        0.073     &    -0.926  &         0.355        &       -0.211    &        0.076     \\\\\n",
       "\\textbf{Month}              &      -0.2371  &        0.319     &    -0.744  &         0.457        &       -0.862    &        0.388     \\\\\n",
       "\\textbf{TrapType\\_CDC}      &      18.0691  &       13.191     &     1.370  &         0.171        &       -7.786    &       43.924     \\\\\n",
       "\\textbf{TrapType\\_GRAVID}   &       7.1275  &       13.180     &     0.541  &         0.589        &      -18.706    &       32.961     \\\\\n",
       "\\textbf{TrapType\\_SENTINEL} &      19.0232  &       13.214     &     1.440  &         0.150        &       -6.877    &       44.923     \\\\\n",
       "\\bottomrule\n",
       "\\end{tabular}\n",
       "\\begin{tabular}{lclc}\n",
       "\\textbf{Omnibus:}       & 4735.789 & \\textbf{  Durbin-Watson:     } &    1.523  \\\\\n",
       "\\textbf{Prob(Omnibus):} &   0.000  & \\textbf{  Jarque-Bera (JB):  } & 9574.472  \\\\\n",
       "\\textbf{Skew:}          &   1.563  & \\textbf{  Prob(JB):          } &     0.00  \\\\\n",
       "\\textbf{Kurtosis:}      &   4.627  & \\textbf{  Cond. No.          } & 1.20e+06  \\\\\n",
       "\\bottomrule\n",
       "\\end{tabular}\n",
       "%\\caption{OLS Regression Results}\n",
       "\\end{center}\n",
       "\n",
       "Notes: \\newline\n",
       " [1] Standard Errors assume that the covariance matrix of the errors is correctly specified. \\newline\n",
       " [2] The condition number is large, 1.2e+06. This might indicate that there are \\newline\n",
       " strong multicollinearity or other numerical problems."
      ],
      "text/plain": [
       "<class 'statsmodels.iolib.summary.Summary'>\n",
       "\"\"\"\n",
       "                            OLS Regression Results                            \n",
       "==============================================================================\n",
       "Dep. Variable:        Mosquito number   R-squared:                       0.044\n",
       "Model:                            OLS   Adj. R-squared:                  0.044\n",
       "Method:                 Least Squares   F-statistic:                     141.9\n",
       "Date:                Tue, 05 Mar 2024   Prob (F-statistic):          1.37e-176\n",
       "Time:                        22:05:17   Log-Likelihood:                -73929.\n",
       "No. Observations:               18495   AIC:                         1.479e+05\n",
       "Df Residuals:                   18488   BIC:                         1.479e+05\n",
       "Df Model:                           6                                         \n",
       "Covariance Type:            nonrobust                                         \n",
       "=====================================================================================\n",
       "                        coef    std err          t      P>|t|      [0.025      0.975]\n",
       "-------------------------------------------------------------------------------------\n",
       "const             -1091.4081     57.577    -18.956      0.000   -1204.264    -978.552\n",
       "Year                  0.5458      0.028     19.573      0.000       0.491       0.600\n",
       "Week                 -0.0676      0.073     -0.926      0.355      -0.211       0.076\n",
       "Month                -0.2371      0.319     -0.744      0.457      -0.862       0.388\n",
       "TrapType_CDC         18.0691     13.191      1.370      0.171      -7.786      43.924\n",
       "TrapType_GRAVID       7.1275     13.180      0.541      0.589     -18.706      32.961\n",
       "TrapType_SENTINEL    19.0232     13.214      1.440      0.150      -6.877      44.923\n",
       "==============================================================================\n",
       "Omnibus:                     4735.789   Durbin-Watson:                   1.523\n",
       "Prob(Omnibus):                  0.000   Jarque-Bera (JB):             9574.472\n",
       "Skew:                           1.563   Prob(JB):                         0.00\n",
       "Kurtosis:                       4.627   Cond. No.                     1.20e+06\n",
       "==============================================================================\n",
       "\n",
       "Notes:\n",
       "[1] Standard Errors assume that the covariance matrix of the errors is correctly specified.\n",
       "[2] The condition number is large, 1.2e+06. This might indicate that there are\n",
       "strong multicollinearity or other numerical problems.\n",
       "\"\"\""
      ]
     },
     "execution_count": 13,
     "metadata": {},
     "output_type": "execute_result"
    }
   ],
   "source": [
    "# 1. Instantiate Model\n",
    "myregression = sm.OLS(y, X_withconstant)\n",
    "\n",
    "# 2. Fit Model (this returns a seperate object with the parameters)\n",
    "myregression_results = myregression.fit()\n",
    "\n",
    "# Looking at the summary\n",
    "myregression_results.summary()\n",
    "\n",
    "# ignore red warning below"
   ]
  },
  {
   "cell_type": "code",
   "execution_count": 14,
   "id": "794d9041-e474-4582-8f92-dd98c1a0ef2d",
   "metadata": {
    "tags": []
   },
   "outputs": [],
   "source": [
    "# Independet Variable \n",
    "X = data[['Year','TrapType_CDC', 'TrapType_GRAVID', 'TrapType_SENTINEL']]\n",
    "\n",
    "# The dependent variable\n",
    "y = data['Mosquito number']"
   ]
  },
  {
   "cell_type": "code",
   "execution_count": 15,
   "id": "171c25ea-a64c-4ecb-b9e2-e937fb402ec1",
   "metadata": {
    "tags": []
   },
   "outputs": [],
   "source": [
    "# Add a constant to the model (the intercept)\n",
    "X_withconstant = sm.add_constant(X) "
   ]
  },
  {
   "cell_type": "code",
   "execution_count": 16,
   "id": "dab72dba-ebcd-4921-a73b-845fd898f159",
   "metadata": {
    "tags": []
   },
   "outputs": [
    {
     "data": {
      "text/html": [
       "<table class=\"simpletable\">\n",
       "<caption>OLS Regression Results</caption>\n",
       "<tr>\n",
       "  <th>Dep. Variable:</th>     <td>Mosquito number</td> <th>  R-squared:         </th> <td>   0.043</td> \n",
       "</tr>\n",
       "<tr>\n",
       "  <th>Model:</th>                   <td>OLS</td>       <th>  Adj. R-squared:    </th> <td>   0.042</td> \n",
       "</tr>\n",
       "<tr>\n",
       "  <th>Method:</th>             <td>Least Squares</td>  <th>  F-statistic:       </th> <td>   205.4</td> \n",
       "</tr>\n",
       "<tr>\n",
       "  <th>Date:</th>             <td>Tue, 05 Mar 2024</td> <th>  Prob (F-statistic):</th> <td>1.16e-172</td>\n",
       "</tr>\n",
       "<tr>\n",
       "  <th>Time:</th>                 <td>22:05:22</td>     <th>  Log-Likelihood:    </th> <td> -73943.</td> \n",
       "</tr>\n",
       "<tr>\n",
       "  <th>No. Observations:</th>      <td> 18495</td>      <th>  AIC:               </th> <td>1.479e+05</td>\n",
       "</tr>\n",
       "<tr>\n",
       "  <th>Df Residuals:</th>          <td> 18490</td>      <th>  BIC:               </th> <td>1.479e+05</td>\n",
       "</tr>\n",
       "<tr>\n",
       "  <th>Df Model:</th>              <td>     4</td>      <th>                     </th>     <td> </td>    \n",
       "</tr>\n",
       "<tr>\n",
       "  <th>Covariance Type:</th>      <td>nonrobust</td>    <th>                     </th>     <td> </td>    \n",
       "</tr>\n",
       "</table>\n",
       "<table class=\"simpletable\">\n",
       "<tr>\n",
       "          <td></td>             <th>coef</th>     <th>std err</th>      <th>t</th>      <th>P>|t|</th>  <th>[0.025</th>    <th>0.975]</th>  \n",
       "</tr>\n",
       "<tr>\n",
       "  <th>const</th>             <td>-1110.1780</td> <td>   56.139</td> <td>  -19.775</td> <td> 0.000</td> <td>-1220.217</td> <td>-1000.139</td>\n",
       "</tr>\n",
       "<tr>\n",
       "  <th>Year</th>              <td>    0.5537</td> <td>    0.027</td> <td>   20.363</td> <td> 0.000</td> <td>    0.500</td> <td>    0.607</td>\n",
       "</tr>\n",
       "<tr>\n",
       "  <th>TrapType_CDC</th>      <td>   16.9963</td> <td>   13.199</td> <td>    1.288</td> <td> 0.198</td> <td>   -8.875</td> <td>   42.867</td>\n",
       "</tr>\n",
       "<tr>\n",
       "  <th>TrapType_GRAVID</th>   <td>    6.1600</td> <td>   13.188</td> <td>    0.467</td> <td> 0.640</td> <td>  -19.690</td> <td>   32.010</td>\n",
       "</tr>\n",
       "<tr>\n",
       "  <th>TrapType_SENTINEL</th> <td>   17.8188</td> <td>   13.221</td> <td>    1.348</td> <td> 0.178</td> <td>   -8.096</td> <td>   43.734</td>\n",
       "</tr>\n",
       "</table>\n",
       "<table class=\"simpletable\">\n",
       "<tr>\n",
       "  <th>Omnibus:</th>       <td>4762.301</td> <th>  Durbin-Watson:     </th> <td>   1.523</td>\n",
       "</tr>\n",
       "<tr>\n",
       "  <th>Prob(Omnibus):</th>  <td> 0.000</td>  <th>  Jarque-Bera (JB):  </th> <td>9668.025</td>\n",
       "</tr>\n",
       "<tr>\n",
       "  <th>Skew:</th>           <td> 1.569</td>  <th>  Prob(JB):          </th> <td>    0.00</td>\n",
       "</tr>\n",
       "<tr>\n",
       "  <th>Kurtosis:</th>       <td> 4.642</td>  <th>  Cond. No.          </th> <td>1.17e+06</td>\n",
       "</tr>\n",
       "</table><br/><br/>Notes:<br/>[1] Standard Errors assume that the covariance matrix of the errors is correctly specified.<br/>[2] The condition number is large, 1.17e+06. This might indicate that there are<br/>strong multicollinearity or other numerical problems."
      ],
      "text/latex": [
       "\\begin{center}\n",
       "\\begin{tabular}{lclc}\n",
       "\\toprule\n",
       "\\textbf{Dep. Variable:}     & Mosquito number  & \\textbf{  R-squared:         } &     0.043   \\\\\n",
       "\\textbf{Model:}             &       OLS        & \\textbf{  Adj. R-squared:    } &     0.042   \\\\\n",
       "\\textbf{Method:}            &  Least Squares   & \\textbf{  F-statistic:       } &     205.4   \\\\\n",
       "\\textbf{Date:}              & Tue, 05 Mar 2024 & \\textbf{  Prob (F-statistic):} & 1.16e-172   \\\\\n",
       "\\textbf{Time:}              &     22:05:22     & \\textbf{  Log-Likelihood:    } &   -73943.   \\\\\n",
       "\\textbf{No. Observations:}  &       18495      & \\textbf{  AIC:               } & 1.479e+05   \\\\\n",
       "\\textbf{Df Residuals:}      &       18490      & \\textbf{  BIC:               } & 1.479e+05   \\\\\n",
       "\\textbf{Df Model:}          &           4      & \\textbf{                     } &             \\\\\n",
       "\\textbf{Covariance Type:}   &    nonrobust     & \\textbf{                     } &             \\\\\n",
       "\\bottomrule\n",
       "\\end{tabular}\n",
       "\\begin{tabular}{lcccccc}\n",
       "                            & \\textbf{coef} & \\textbf{std err} & \\textbf{t} & \\textbf{P$> |$t$|$} & \\textbf{[0.025} & \\textbf{0.975]}  \\\\\n",
       "\\midrule\n",
       "\\textbf{const}              &   -1110.1780  &       56.139     &   -19.775  &         0.000        &    -1220.217    &    -1000.139     \\\\\n",
       "\\textbf{Year}               &       0.5537  &        0.027     &    20.363  &         0.000        &        0.500    &        0.607     \\\\\n",
       "\\textbf{TrapType\\_CDC}      &      16.9963  &       13.199     &     1.288  &         0.198        &       -8.875    &       42.867     \\\\\n",
       "\\textbf{TrapType\\_GRAVID}   &       6.1600  &       13.188     &     0.467  &         0.640        &      -19.690    &       32.010     \\\\\n",
       "\\textbf{TrapType\\_SENTINEL} &      17.8188  &       13.221     &     1.348  &         0.178        &       -8.096    &       43.734     \\\\\n",
       "\\bottomrule\n",
       "\\end{tabular}\n",
       "\\begin{tabular}{lclc}\n",
       "\\textbf{Omnibus:}       & 4762.301 & \\textbf{  Durbin-Watson:     } &    1.523  \\\\\n",
       "\\textbf{Prob(Omnibus):} &   0.000  & \\textbf{  Jarque-Bera (JB):  } & 9668.025  \\\\\n",
       "\\textbf{Skew:}          &   1.569  & \\textbf{  Prob(JB):          } &     0.00  \\\\\n",
       "\\textbf{Kurtosis:}      &   4.642  & \\textbf{  Cond. No.          } & 1.17e+06  \\\\\n",
       "\\bottomrule\n",
       "\\end{tabular}\n",
       "%\\caption{OLS Regression Results}\n",
       "\\end{center}\n",
       "\n",
       "Notes: \\newline\n",
       " [1] Standard Errors assume that the covariance matrix of the errors is correctly specified. \\newline\n",
       " [2] The condition number is large, 1.17e+06. This might indicate that there are \\newline\n",
       " strong multicollinearity or other numerical problems."
      ],
      "text/plain": [
       "<class 'statsmodels.iolib.summary.Summary'>\n",
       "\"\"\"\n",
       "                            OLS Regression Results                            \n",
       "==============================================================================\n",
       "Dep. Variable:        Mosquito number   R-squared:                       0.043\n",
       "Model:                            OLS   Adj. R-squared:                  0.042\n",
       "Method:                 Least Squares   F-statistic:                     205.4\n",
       "Date:                Tue, 05 Mar 2024   Prob (F-statistic):          1.16e-172\n",
       "Time:                        22:05:22   Log-Likelihood:                -73943.\n",
       "No. Observations:               18495   AIC:                         1.479e+05\n",
       "Df Residuals:                   18490   BIC:                         1.479e+05\n",
       "Df Model:                           4                                         \n",
       "Covariance Type:            nonrobust                                         \n",
       "=====================================================================================\n",
       "                        coef    std err          t      P>|t|      [0.025      0.975]\n",
       "-------------------------------------------------------------------------------------\n",
       "const             -1110.1780     56.139    -19.775      0.000   -1220.217   -1000.139\n",
       "Year                  0.5537      0.027     20.363      0.000       0.500       0.607\n",
       "TrapType_CDC         16.9963     13.199      1.288      0.198      -8.875      42.867\n",
       "TrapType_GRAVID       6.1600     13.188      0.467      0.640     -19.690      32.010\n",
       "TrapType_SENTINEL    17.8188     13.221      1.348      0.178      -8.096      43.734\n",
       "==============================================================================\n",
       "Omnibus:                     4762.301   Durbin-Watson:                   1.523\n",
       "Prob(Omnibus):                  0.000   Jarque-Bera (JB):             9668.025\n",
       "Skew:                           1.569   Prob(JB):                         0.00\n",
       "Kurtosis:                       4.642   Cond. No.                     1.17e+06\n",
       "==============================================================================\n",
       "\n",
       "Notes:\n",
       "[1] Standard Errors assume that the covariance matrix of the errors is correctly specified.\n",
       "[2] The condition number is large, 1.17e+06. This might indicate that there are\n",
       "strong multicollinearity or other numerical problems.\n",
       "\"\"\""
      ]
     },
     "execution_count": 16,
     "metadata": {},
     "output_type": "execute_result"
    }
   ],
   "source": [
    "# 1. Instantiate Model\n",
    "myregression = sm.OLS(y, X_withconstant)\n",
    "\n",
    "# 2. Fit Model (this returns a seperate object with the parameters)\n",
    "myregression_results = myregression.fit()\n",
    "\n",
    "# Looking at the summary\n",
    "myregression_results.summary()\n",
    "\n",
    "# ignore red warning below"
   ]
  },
  {
   "cell_type": "code",
   "execution_count": 17,
   "id": "62a880e3-561e-45c3-ad15-de3a6223dc2a",
   "metadata": {
    "tags": []
   },
   "outputs": [],
   "source": [
    "# Independet Variable \n",
    "X = data[['Year','TrapType_CDC', 'TrapType_GRAVID', 'TrapType_SENTINEL','Lat','Lon']]\n",
    "\n",
    "# The dependent variable\n",
    "y = data['Mosquito number']"
   ]
  },
  {
   "cell_type": "code",
   "execution_count": 25,
   "id": "b9434d3b-7510-4d92-9cad-b0d9e1829e28",
   "metadata": {
    "tags": []
   },
   "outputs": [
    {
     "data": {
      "image/png": "[encoded data removed]",
      "text/plain": [
       "<Figure size 400x200 with 1 Axes>"
      ]
     },
     "metadata": {},
     "output_type": "display_data"
    },
    {
     "data": {
      "image/png": "[encoded data removed]",
      "text/plain": [
       "<Figure size 400x200 with 1 Axes>"
      ]
     },
     "metadata": {},
     "output_type": "display_data"
    },
    {
     "data": {
      "image/png": "[encoded data removed]",
      "text/plain": [
       "<Figure size 400x200 with 1 Axes>"
      ]
     },
     "metadata": {},
     "output_type": "display_data"
    },
    {
     "data": {
      "image/png": "[encoded data removed]",
      "text/plain": [
       "<Figure size 400x200 with 1 Axes>"
      ]
     },
     "metadata": {},
     "output_type": "display_data"
    },
    {
     "data": {
      "image/png": "[encoded data removed]",
      "text/plain": [
       "<Figure size 400x200 with 1 Axes>"
      ]
     },
     "metadata": {},
     "output_type": "display_data"
    },
    {
     "data": {
      "image/png": "[encoded data removed]",
      "text/plain": [
       "<Figure size 400x200 with 1 Axes>"
      ]
     },
     "metadata": {},
     "output_type": "display_data"
    }
   ],
   "source": [
    "for col in X.columns: \n",
    "    plt.figure(figsize=(4,2))\n",
    "    plt.scatter(X[col], y)\n",
    "    plt.ylabel('Mosquito number')\n",
    "    plt.xlabel(col)\n",
    "    plt.show()"
   ]
  },
  {
   "cell_type": "code",
   "execution_count": 18,
   "id": "e96abf2b-2c78-4e60-b54a-e43191af7328",
   "metadata": {
    "tags": []
   },
   "outputs": [
    {
     "data": {
      "text/html": [
       "<table class=\"simpletable\">\n",
       "<caption>OLS Regression Results</caption>\n",
       "<tr>\n",
       "  <th>Dep. Variable:</th>     <td>Mosquito number</td> <th>  R-squared:         </th> <td>   0.066</td> \n",
       "</tr>\n",
       "<tr>\n",
       "  <th>Model:</th>                   <td>OLS</td>       <th>  Adj. R-squared:    </th> <td>   0.066</td> \n",
       "</tr>\n",
       "<tr>\n",
       "  <th>Method:</th>             <td>Least Squares</td>  <th>  F-statistic:       </th> <td>   218.8</td> \n",
       "</tr>\n",
       "<tr>\n",
       "  <th>Date:</th>             <td>Tue, 05 Mar 2024</td> <th>  Prob (F-statistic):</th> <td>6.84e-271</td>\n",
       "</tr>\n",
       "<tr>\n",
       "  <th>Time:</th>                 <td>22:05:26</td>     <th>  Log-Likelihood:    </th> <td> -73711.</td> \n",
       "</tr>\n",
       "<tr>\n",
       "  <th>No. Observations:</th>      <td> 18495</td>      <th>  AIC:               </th> <td>1.474e+05</td>\n",
       "</tr>\n",
       "<tr>\n",
       "  <th>Df Residuals:</th>          <td> 18488</td>      <th>  BIC:               </th> <td>1.475e+05</td>\n",
       "</tr>\n",
       "<tr>\n",
       "  <th>Df Model:</th>              <td>     6</td>      <th>                     </th>     <td> </td>    \n",
       "</tr>\n",
       "<tr>\n",
       "  <th>Covariance Type:</th>      <td>nonrobust</td>    <th>                     </th>     <td> </td>    \n",
       "</tr>\n",
       "</table>\n",
       "<table class=\"simpletable\">\n",
       "<tr>\n",
       "          <td></td>             <th>coef</th>     <th>std err</th>      <th>t</th>      <th>P>|t|</th>  <th>[0.025</th>    <th>0.975]</th>  \n",
       "</tr>\n",
       "<tr>\n",
       "  <th>const</th>             <td>-3094.3455</td> <td>  111.567</td> <td>  -27.735</td> <td> 0.000</td> <td>-3313.028</td> <td>-2875.663</td>\n",
       "</tr>\n",
       "<tr>\n",
       "  <th>Year</th>              <td>    0.5045</td> <td>    0.027</td> <td>   18.706</td> <td> 0.000</td> <td>    0.452</td> <td>    0.557</td>\n",
       "</tr>\n",
       "<tr>\n",
       "  <th>TrapType_CDC</th>      <td>   18.9137</td> <td>   13.035</td> <td>    1.451</td> <td> 0.147</td> <td>   -6.636</td> <td>   44.464</td>\n",
       "</tr>\n",
       "<tr>\n",
       "  <th>TrapType_GRAVID</th>   <td>    7.6832</td> <td>   13.024</td> <td>    0.590</td> <td> 0.555</td> <td>  -17.846</td> <td>   33.212</td>\n",
       "</tr>\n",
       "<tr>\n",
       "  <th>TrapType_SENTINEL</th> <td>   20.7924</td> <td>   13.058</td> <td>    1.592</td> <td> 0.111</td> <td>   -4.802</td> <td>   46.387</td>\n",
       "</tr>\n",
       "<tr>\n",
       "  <th>Lat</th>               <td>   -5.0978</td> <td>    1.255</td> <td>   -4.062</td> <td> 0.000</td> <td>   -7.558</td> <td>   -2.638</td>\n",
       "</tr>\n",
       "<tr>\n",
       "  <th>Lon</th>               <td>  -26.1651</td> <td>    1.521</td> <td>  -17.206</td> <td> 0.000</td> <td>  -29.146</td> <td>  -23.184</td>\n",
       "</tr>\n",
       "</table>\n",
       "<table class=\"simpletable\">\n",
       "<tr>\n",
       "  <th>Omnibus:</th>       <td>4648.226</td> <th>  Durbin-Watson:     </th> <td>   1.533</td>\n",
       "</tr>\n",
       "<tr>\n",
       "  <th>Prob(Omnibus):</th>  <td> 0.000</td>  <th>  Jarque-Bera (JB):  </th> <td>9344.546</td>\n",
       "</tr>\n",
       "<tr>\n",
       "  <th>Skew:</th>           <td> 1.533</td>  <th>  Prob(JB):          </th> <td>    0.00</td>\n",
       "</tr>\n",
       "<tr>\n",
       "  <th>Kurtosis:</th>       <td> 4.650</td>  <th>  Cond. No.          </th> <td>2.35e+06</td>\n",
       "</tr>\n",
       "</table><br/><br/>Notes:<br/>[1] Standard Errors assume that the covariance matrix of the errors is correctly specified.<br/>[2] The condition number is large, 2.35e+06. This might indicate that there are<br/>strong multicollinearity or other numerical problems."
      ],
      "text/latex": [
       "\\begin{center}\n",
       "\\begin{tabular}{lclc}\n",
       "\\toprule\n",
       "\\textbf{Dep. Variable:}     & Mosquito number  & \\textbf{  R-squared:         } &     0.066   \\\\\n",
       "\\textbf{Model:}             &       OLS        & \\textbf{  Adj. R-squared:    } &     0.066   \\\\\n",
       "\\textbf{Method:}            &  Least Squares   & \\textbf{  F-statistic:       } &     218.8   \\\\\n",
       "\\textbf{Date:}              & Tue, 05 Mar 2024 & \\textbf{  Prob (F-statistic):} & 6.84e-271   \\\\\n",
       "\\textbf{Time:}              &     22:05:26     & \\textbf{  Log-Likelihood:    } &   -73711.   \\\\\n",
       "\\textbf{No. Observations:}  &       18495      & \\textbf{  AIC:               } & 1.474e+05   \\\\\n",
       "\\textbf{Df Residuals:}      &       18488      & \\textbf{  BIC:               } & 1.475e+05   \\\\\n",
       "\\textbf{Df Model:}          &           6      & \\textbf{                     } &             \\\\\n",
       "\\textbf{Covariance Type:}   &    nonrobust     & \\textbf{                     } &             \\\\\n",
       "\\bottomrule\n",
       "\\end{tabular}\n",
       "\\begin{tabular}{lcccccc}\n",
       "                            & \\textbf{coef} & \\textbf{std err} & \\textbf{t} & \\textbf{P$> |$t$|$} & \\textbf{[0.025} & \\textbf{0.975]}  \\\\\n",
       "\\midrule\n",
       "\\textbf{const}              &   -3094.3455  &      111.567     &   -27.735  &         0.000        &    -3313.028    &    -2875.663     \\\\\n",
       "\\textbf{Year}               &       0.5045  &        0.027     &    18.706  &         0.000        &        0.452    &        0.557     \\\\\n",
       "\\textbf{TrapType\\_CDC}      &      18.9137  &       13.035     &     1.451  &         0.147        &       -6.636    &       44.464     \\\\\n",
       "\\textbf{TrapType\\_GRAVID}   &       7.6832  &       13.024     &     0.590  &         0.555        &      -17.846    &       33.212     \\\\\n",
       "\\textbf{TrapType\\_SENTINEL} &      20.7924  &       13.058     &     1.592  &         0.111        &       -4.802    &       46.387     \\\\\n",
       "\\textbf{Lat}                &      -5.0978  &        1.255     &    -4.062  &         0.000        &       -7.558    &       -2.638     \\\\\n",
       "\\textbf{Lon}                &     -26.1651  &        1.521     &   -17.206  &         0.000        &      -29.146    &      -23.184     \\\\\n",
       "\\bottomrule\n",
       "\\end{tabular}\n",
       "\\begin{tabular}{lclc}\n",
       "\\textbf{Omnibus:}       & 4648.226 & \\textbf{  Durbin-Watson:     } &    1.533  \\\\\n",
       "\\textbf{Prob(Omnibus):} &   0.000  & \\textbf{  Jarque-Bera (JB):  } & 9344.546  \\\\\n",
       "\\textbf{Skew:}          &   1.533  & \\textbf{  Prob(JB):          } &     0.00  \\\\\n",
       "\\textbf{Kurtosis:}      &   4.650  & \\textbf{  Cond. No.          } & 2.35e+06  \\\\\n",
       "\\bottomrule\n",
       "\\end{tabular}\n",
       "%\\caption{OLS Regression Results}\n",
       "\\end{center}\n",
       "\n",
       "Notes: \\newline\n",
       " [1] Standard Errors assume that the covariance matrix of the errors is correctly specified. \\newline\n",
       " [2] The condition number is large, 2.35e+06. This might indicate that there are \\newline\n",
       " strong multicollinearity or other numerical problems."
      ],
      "text/plain": [
       "<class 'statsmodels.iolib.summary.Summary'>\n",
       "\"\"\"\n",
       "                            OLS Regression Results                            \n",
       "==============================================================================\n",
       "Dep. Variable:        Mosquito number   R-squared:                       0.066\n",
       "Model:                            OLS   Adj. R-squared:                  0.066\n",
       "Method:                 Least Squares   F-statistic:                     218.8\n",
       "Date:                Tue, 05 Mar 2024   Prob (F-statistic):          6.84e-271\n",
       "Time:                        22:05:26   Log-Likelihood:                -73711.\n",
       "No. Observations:               18495   AIC:                         1.474e+05\n",
       "Df Residuals:                   18488   BIC:                         1.475e+05\n",
       "Df Model:                           6                                         \n",
       "Covariance Type:            nonrobust                                         \n",
       "=====================================================================================\n",
       "                        coef    std err          t      P>|t|      [0.025      0.975]\n",
       "-------------------------------------------------------------------------------------\n",
       "const             -3094.3455    111.567    -27.735      0.000   -3313.028   -2875.663\n",
       "Year                  0.5045      0.027     18.706      0.000       0.452       0.557\n",
       "TrapType_CDC         18.9137     13.035      1.451      0.147      -6.636      44.464\n",
       "TrapType_GRAVID       7.6832     13.024      0.590      0.555     -17.846      33.212\n",
       "TrapType_SENTINEL    20.7924     13.058      1.592      0.111      -4.802      46.387\n",
       "Lat                  -5.0978      1.255     -4.062      0.000      -7.558      -2.638\n",
       "Lon                 -26.1651      1.521    -17.206      0.000     -29.146     -23.184\n",
       "==============================================================================\n",
       "Omnibus:                     4648.226   Durbin-Watson:                   1.533\n",
       "Prob(Omnibus):                  0.000   Jarque-Bera (JB):             9344.546\n",
       "Skew:                           1.533   Prob(JB):                         0.00\n",
       "Kurtosis:                       4.650   Cond. No.                     2.35e+06\n",
       "==============================================================================\n",
       "\n",
       "Notes:\n",
       "[1] Standard Errors assume that the covariance matrix of the errors is correctly specified.\n",
       "[2] The condition number is large, 2.35e+06. This might indicate that there are\n",
       "strong multicollinearity or other numerical problems.\n",
       "\"\"\""
      ]
     },
     "execution_count": 18,
     "metadata": {},
     "output_type": "execute_result"
    }
   ],
   "source": [
    "# Add a constant to the model (the intercept)\n",
    "X_withconstant = sm.add_constant(X) \n",
    "# 1. Instantiate Model\n",
    "myregression = sm.OLS(y, X_withconstant)\n",
    "\n",
    "# 2. Fit Model (this returns a seperate object with the parameters)\n",
    "myregression_results = myregression.fit()\n",
    "\n",
    "# Looking at the summary\n",
    "myregression_results.summary()\n",
    "\n",
    "# ignore red warning below"
   ]
  },
  {
   "cell_type": "markdown",
   "id": "80ac51d1-d923-463c-94fc-f101646c2318",
   "metadata": {},
   "source": [
    "I ran different models to see if I could improve the R-SQAURE and the above model is the best one I was able to develop and I explianed it below\n",
    "\n",
    "The R-squared value of 0.066 means that roughly 6.6% of the changes in mosquito numbers can be understood using the variables in our model. This suggests that the model's ability to explain mosquito numbers is quite limited.\n",
    "\n",
    "Year: A coefficient of 0.5045 means that for each additional year, the number of mosquitoes tends to increase by about 0.5045, assuming all other factors remain constant.\n",
    "\n",
    "TrapType_CDC, TrapType_GRAVID, TrapType_SENTINEL: These coefficients represent how each trap type affects mosquito numbers compared to a baseline trap type (which isn't explicitly mentioned). However, since their p-values are greater than 0.05, these variables don't seem to have a significant impact on mosquito numbers.\n",
    "\n",
    "Lat, Lon: The coefficients for latitude and longitude suggest a negative relationship with mosquito numbers. This means that as latitude and longitude increase, the number of mosquitoes tends to decrease.\n",
    "\n",
    "Limited Explanation: The model can only account for a small fraction of the variation in mosquito numbers, indicating that there are likely other influential factors not considered.\n",
    "\n",
    "Non-significant Variables: Some independent variables, like trap types ('TrapType_CDC', 'TrapType_GRAVID', 'TrapType_SENTINEL'), do not appear to significantly influence mosquito numbers according to statistical tests. This suggests that these variables may not be relevant predictors in the model.\n",
    "\n",
    "Simplified Representation: The model may oversimplify the complex relationship between independent variables and mosquito numbers. Factors such as weather conditions, habitat suitability, and mosquito species diversity, which are known to affect mosquito populations, are not incorporated into the model."
   ]
  },
  {
   "cell_type": "code",
   "execution_count": 20,
   "id": "8f461222-b8f8-40b9-9a81-47a871428e41",
   "metadata": {
    "tags": []
   },
   "outputs": [
    {
     "name": "stdout",
     "output_type": "stream",
     "text": [
      "0       -15.243240\n",
      "1       -13.389508\n",
      "2       -10.182789\n",
      "3       -12.284680\n",
      "4        -1.114731\n",
      "           ...    \n",
      "18490    -5.927741\n",
      "18491    10.954101\n",
      "18492    24.271187\n",
      "18493    26.015190\n",
      "18494    -9.225438\n",
      "Length: 18495, dtype: float64\n"
     ]
    }
   ],
   "source": [
    "residuals = myregression_results.resid\n",
    "print(residuals)"
   ]
  },
  {
   "cell_type": "code",
   "execution_count": 21,
   "id": "a9d815ae-8b0b-4b21-ad59-3a4a8025af8a",
   "metadata": {
    "tags": []
   },
   "outputs": [
    {
     "data": {
      "image/png": "[encoded data removed]",
      "text/plain": [
       "<Figure size 800x600 with 1 Axes>"
      ]
     },
     "metadata": {},
     "output_type": "display_data"
    }
   ],
   "source": [
    "# Check for normality\n",
    "# Plot histogram\n",
    "plt.figure(figsize=(8, 6))\n",
    "plt.hist(residuals, bins=50, edgecolor='k')\n",
    "plt.title('Histogram of Residuals')\n",
    "plt.xlabel('Residuals')\n",
    "plt.ylabel('Frequency')\n",
    "plt.show()\n"
   ]
  },
  {
   "cell_type": "code",
   "execution_count": 23,
   "id": "4c017e41-a313-485c-bdd2-a962b2c97784",
   "metadata": {
    "tags": []
   },
   "outputs": [
    {
     "name": "stdout",
     "output_type": "stream",
     "text": [
      "Shapiro-Wilk test p-value: 0.0\n"
     ]
    },
    {
     "name": "stderr",
     "output_type": "stream",
     "text": [
      "/Users/jashkiratvirdi/anaconda3/lib/python3.11/site-packages/scipy/stats/_morestats.py:1882: UserWarning: p-value may not be accurate for N > 5000.\n",
      "  warnings.warn(\"p-value may not be accurate for N > 5000.\")\n"
     ]
    }
   ],
   "source": [
    "from scipy.stats import shapiro \n",
    "# Shapiro-Wilk test for normality\n",
    "shapiro_test_statistic, shapiro_p_value = shapiro(residuals)\n",
    "print(f\"Shapiro-Wilk test p-value: {shapiro_p_value}\")"
   ]
  },
  {
   "cell_type": "markdown",
   "id": "42e33160-ba18-406c-bbb3-50a245ff3386",
   "metadata": {},
   "source": [
    "This is like a bar chart showing how much the model's predictions miss the actual numbers.\n",
    "We want to see a bell shape, but this chart isn't quite shaped like a bell, which means the predictions are consistently off in some way.\n",
    "A test we use to check this (called the Shapiro-Wilk test) tells us that the chart really doesn't have the shape we want (since the p-value is 0.0)."
   ]
  },
  {
   "cell_type": "code",
   "execution_count": 22,
   "id": "08886a36-5828-4428-8382-e8912bf3bd02",
   "metadata": {
    "tags": []
   },
   "outputs": [
    {
     "data": {
      "image/png": "[encoded data removed]",
      "text/plain": [
       "<Figure size 640x480 with 1 Axes>"
      ]
     },
     "metadata": {},
     "output_type": "display_data"
    }
   ],
   "source": [
    "# Q-Q plot\n",
    "sm.qqplot(residuals, line='s')\n",
    "plt.title('Q-Q Plot of Residuals')\n",
    "plt.show()"
   ]
  },
  {
   "cell_type": "markdown",
   "id": "7f9632e5-5e16-4df1-b871-6e6a9f2c6a2f",
   "metadata": {},
   "source": [
    "This plot helps us see if the model's misses are the kind we'd expect by chance.\n",
    "Ideally, all the points should be on the straight red line, but they're not, especially at the ends. This means that for really high or low predictions, the model is more likely to be wrong."
   ]
  },
  {
   "cell_type": "code",
   "execution_count": 24,
   "id": "7d98fa8d-6f6b-45e0-830a-e898825ee9e5",
   "metadata": {
    "tags": []
   },
   "outputs": [
    {
     "data": {
      "image/png": "[encoded data removed]",
      "text/plain": [
       "<Figure size 800x600 with 1 Axes>"
      ]
     },
     "metadata": {},
     "output_type": "display_data"
    }
   ],
   "source": [
    "# Check for homoscedasticity\n",
    "# Residuals vs Fitted plot\n",
    "plt.figure(figsize=(8, 6))\n",
    "plt.scatter(myregression_results.fittedvalues, residuals)\n",
    "plt.xlabel('Fitted values')\n",
    "plt.ylabel('Residuals')\n",
    "plt.title('Residuals vs Fitted Plot')\n",
    "plt.axhline(y=0, color='r', linestyle='-')\n",
    "plt.show()"
   ]
  },
  {
   "cell_type": "markdown",
   "id": "d1a0173f-3e6a-4c1c-8197-40323f8646f5",
   "metadata": {},
   "source": [
    "This plot shows each prediction the model makes against how much it was off.\n",
    "If everything was perfect, the dots would be scattered evenly around the center line, but they're not. \n",
    "Instead, they show that the bigger the predictions, the bigger the misses tend to be, indicating that the model's accuracy is worse for higher values."
   ]
  },
  {
   "cell_type": "code",
   "execution_count": 34,
   "id": "23c94120-2bae-49fe-8443-4470426901ff",
   "metadata": {
    "tags": []
   },
   "outputs": [],
   "source": [
    "# Load the dataset\n",
    "data = pd.read_csv('mosquito_data_part_2.csv')\n",
    "data['WNV Present'] = data['WNV Present'].apply(lambda x: 1 if x == 'positive' else 0)\n",
    "\n",
    "# Create dummy variables for 'Trap type'\n",
    "data = pd.concat([data, pd.get_dummies(data['Trap type'], prefix='TrapType',dtype=int)], axis=1)"
   ]
  },
  {
   "cell_type": "code",
   "execution_count": 37,
   "id": "50cb4a77-d15e-48e0-aa5e-efb331635129",
   "metadata": {
    "tags": []
   },
   "outputs": [],
   "source": [
    "X = data[['Year', 'Week', 'Mosquito number', 'Lat', 'Lon', 'TrapType_GRAVID','TrapType_OVI', 'TrapType_SENTINEL']]\n",
    "\n",
    "# The dependent variable is 'WNV Present'\n",
    "y = data['WNV Present']\n",
    "\n",
    "# Add a constant to the model (the intercept)\n",
    "X_withconstant = sm.add_constant(X)"
   ]
  },
  {
   "cell_type": "code",
   "execution_count": 30,
   "id": "3ba357c0-1a71-41be-b041-4edde21cd4df",
   "metadata": {
    "tags": []
   },
   "outputs": [
    {
     "data": {
      "text/html": [
       "<div>\n",
       "<style scoped>\n",
       "    .dataframe tbody tr th:only-of-type {\n",
       "        vertical-align: middle;\n",
       "    }\n",
       "\n",
       "    .dataframe tbody tr th {\n",
       "        vertical-align: top;\n",
       "    }\n",
       "\n",
       "    .dataframe thead th {\n",
       "        text-align: right;\n",
       "    }\n",
       "</style>\n",
       "<table border=\"1\" class=\"dataframe\">\n",
       "  <thead>\n",
       "    <tr style=\"text-align: right;\">\n",
       "      <th></th>\n",
       "      <th>Year</th>\n",
       "      <th>Week</th>\n",
       "      <th>Mosquito number</th>\n",
       "      <th>Species</th>\n",
       "      <th>Lat</th>\n",
       "      <th>Lon</th>\n",
       "      <th>Month</th>\n",
       "      <th>TrapType_CDC</th>\n",
       "      <th>TrapType_GRAVID</th>\n",
       "      <th>TrapType_SENTINEL</th>\n",
       "    </tr>\n",
       "  </thead>\n",
       "  <tbody>\n",
       "    <tr>\n",
       "      <th>0</th>\n",
       "      <td>2019</td>\n",
       "      <td>39</td>\n",
       "      <td>2</td>\n",
       "      <td>CULEX RESTUANS</td>\n",
       "      <td>41.977738</td>\n",
       "      <td>-87.880969</td>\n",
       "      <td>9</td>\n",
       "      <td>0</td>\n",
       "      <td>1</td>\n",
       "      <td>0</td>\n",
       "    </tr>\n",
       "    <tr>\n",
       "      <th>1</th>\n",
       "      <td>2019</td>\n",
       "      <td>39</td>\n",
       "      <td>1</td>\n",
       "      <td>CULEX RESTUANS</td>\n",
       "      <td>41.798211</td>\n",
       "      <td>-87.736925</td>\n",
       "      <td>9</td>\n",
       "      <td>0</td>\n",
       "      <td>1</td>\n",
       "      <td>0</td>\n",
       "    </tr>\n",
       "    <tr>\n",
       "      <th>2</th>\n",
       "      <td>2019</td>\n",
       "      <td>39</td>\n",
       "      <td>2</td>\n",
       "      <td>CULEX RESTUANS</td>\n",
       "      <td>41.987245</td>\n",
       "      <td>-87.689417</td>\n",
       "      <td>9</td>\n",
       "      <td>0</td>\n",
       "      <td>1</td>\n",
       "      <td>0</td>\n",
       "    </tr>\n",
       "    <tr>\n",
       "      <th>3</th>\n",
       "      <td>2019</td>\n",
       "      <td>39</td>\n",
       "      <td>1</td>\n",
       "      <td>CULEX RESTUANS</td>\n",
       "      <td>41.953664</td>\n",
       "      <td>-87.724987</td>\n",
       "      <td>9</td>\n",
       "      <td>0</td>\n",
       "      <td>1</td>\n",
       "      <td>0</td>\n",
       "    </tr>\n",
       "    <tr>\n",
       "      <th>4</th>\n",
       "      <td>2019</td>\n",
       "      <td>39</td>\n",
       "      <td>9</td>\n",
       "      <td>CULEX RESTUANS</td>\n",
       "      <td>41.657069</td>\n",
       "      <td>-87.546049</td>\n",
       "      <td>9</td>\n",
       "      <td>0</td>\n",
       "      <td>1</td>\n",
       "      <td>0</td>\n",
       "    </tr>\n",
       "  </tbody>\n",
       "</table>\n",
       "</div>"
      ],
      "text/plain": [
       "   Year  Week  Mosquito number         Species        Lat        Lon  Month  \\\n",
       "0  2019    39                2  CULEX RESTUANS  41.977738 -87.880969      9   \n",
       "1  2019    39                1  CULEX RESTUANS  41.798211 -87.736925      9   \n",
       "2  2019    39                2  CULEX RESTUANS  41.987245 -87.689417      9   \n",
       "3  2019    39                1  CULEX RESTUANS  41.953664 -87.724987      9   \n",
       "4  2019    39                9  CULEX RESTUANS  41.657069 -87.546049      9   \n",
       "\n",
       "   TrapType_CDC  TrapType_GRAVID  TrapType_SENTINEL  \n",
       "0             0                1                  0  \n",
       "1             0                1                  0  \n",
       "2             0                1                  0  \n",
       "3             0                1                  0  \n",
       "4             0                1                  0  "
      ]
     },
     "execution_count": 30,
     "metadata": {},
     "output_type": "execute_result"
    }
   ],
   "source": [
    "data.head()"
   ]
  },
  {
   "cell_type": "code",
   "execution_count": 38,
   "id": "c86d0d96-23f7-4188-b147-05e1eee24599",
   "metadata": {
    "tags": []
   },
   "outputs": [
    {
     "name": "stdout",
     "output_type": "stream",
     "text": [
      "Warning: Maximum number of iterations has been exceeded.\n",
      "         Current function value: 0.410883\n",
      "         Iterations: 35\n"
     ]
    },
    {
     "name": "stderr",
     "output_type": "stream",
     "text": [
      "/Users/jashkiratvirdi/anaconda3/lib/python3.11/site-packages/statsmodels/base/model.py:607: ConvergenceWarning: Maximum Likelihood optimization failed to converge. Check mle_retvals\n",
      "  warnings.warn(\"Maximum Likelihood optimization failed to \"\n"
     ]
    },
    {
     "data": {
      "text/html": [
       "<table class=\"simpletable\">\n",
       "<caption>Logit Regression Results</caption>\n",
       "<tr>\n",
       "  <th>Dep. Variable:</th>      <td>WNV Present</td>   <th>  No. Observations:  </th>  <td> 18495</td> \n",
       "</tr>\n",
       "<tr>\n",
       "  <th>Model:</th>                 <td>Logit</td>      <th>  Df Residuals:      </th>  <td> 18486</td> \n",
       "</tr>\n",
       "<tr>\n",
       "  <th>Method:</th>                 <td>MLE</td>       <th>  Df Model:          </th>  <td>     8</td> \n",
       "</tr>\n",
       "<tr>\n",
       "  <th>Date:</th>            <td>Tue, 05 Mar 2024</td> <th>  Pseudo R-squ.:     </th>  <td>0.2125</td> \n",
       "</tr>\n",
       "<tr>\n",
       "  <th>Time:</th>                <td>23:22:24</td>     <th>  Log-Likelihood:    </th> <td> -7599.3</td>\n",
       "</tr>\n",
       "<tr>\n",
       "  <th>converged:</th>             <td>False</td>      <th>  LL-Null:           </th> <td> -9649.5</td>\n",
       "</tr>\n",
       "<tr>\n",
       "  <th>Covariance Type:</th>     <td>nonrobust</td>    <th>  LLR p-value:       </th>  <td> 0.000</td> \n",
       "</tr>\n",
       "</table>\n",
       "<table class=\"simpletable\">\n",
       "<tr>\n",
       "          <td></td>             <th>coef</th>     <th>std err</th>      <th>z</th>      <th>P>|z|</th>  <th>[0.025</th>    <th>0.975]</th>  \n",
       "</tr>\n",
       "<tr>\n",
       "  <th>const</th>             <td> -491.9685</td> <td>   24.311</td> <td>  -20.237</td> <td> 0.000</td> <td> -539.617</td> <td> -444.320</td>\n",
       "</tr>\n",
       "<tr>\n",
       "  <th>Year</th>              <td>    0.0961</td> <td>    0.006</td> <td>   15.624</td> <td> 0.000</td> <td>    0.084</td> <td>    0.108</td>\n",
       "</tr>\n",
       "<tr>\n",
       "  <th>Week</th>              <td>    0.1554</td> <td>    0.005</td> <td>   29.107</td> <td> 0.000</td> <td>    0.145</td> <td>    0.166</td>\n",
       "</tr>\n",
       "<tr>\n",
       "  <th>Mosquito number</th>   <td>    0.0677</td> <td>    0.001</td> <td>   46.827</td> <td> 0.000</td> <td>    0.065</td> <td>    0.071</td>\n",
       "</tr>\n",
       "<tr>\n",
       "  <th>Lat</th>               <td>   -0.7300</td> <td>    0.285</td> <td>   -2.564</td> <td> 0.010</td> <td>   -1.288</td> <td>   -0.172</td>\n",
       "</tr>\n",
       "<tr>\n",
       "  <th>Lon</th>               <td>   -3.6685</td> <td>    0.333</td> <td>  -11.031</td> <td> 0.000</td> <td>   -4.320</td> <td>   -3.017</td>\n",
       "</tr>\n",
       "<tr>\n",
       "  <th>TrapType_GRAVID</th>   <td>    0.0973</td> <td>    0.131</td> <td>    0.744</td> <td> 0.457</td> <td>   -0.159</td> <td>    0.354</td>\n",
       "</tr>\n",
       "<tr>\n",
       "  <th>TrapType_OVI</th>      <td>  -13.6242</td> <td> 6886.258</td> <td>   -0.002</td> <td> 0.998</td> <td>-1.35e+04</td> <td> 1.35e+04</td>\n",
       "</tr>\n",
       "<tr>\n",
       "  <th>TrapType_SENTINEL</th> <td>   -0.3036</td> <td>    0.215</td> <td>   -1.410</td> <td> 0.159</td> <td>   -0.726</td> <td>    0.118</td>\n",
       "</tr>\n",
       "</table>"
      ],
      "text/latex": [
       "\\begin{center}\n",
       "\\begin{tabular}{lclc}\n",
       "\\toprule\n",
       "\\textbf{Dep. Variable:}     &   WNV Present    & \\textbf{  No. Observations:  } &    18495    \\\\\n",
       "\\textbf{Model:}             &      Logit       & \\textbf{  Df Residuals:      } &    18486    \\\\\n",
       "\\textbf{Method:}            &       MLE        & \\textbf{  Df Model:          } &        8    \\\\\n",
       "\\textbf{Date:}              & Tue, 05 Mar 2024 & \\textbf{  Pseudo R-squ.:     } &   0.2125    \\\\\n",
       "\\textbf{Time:}              &     23:22:24     & \\textbf{  Log-Likelihood:    } &   -7599.3   \\\\\n",
       "\\textbf{converged:}         &      False       & \\textbf{  LL-Null:           } &   -9649.5   \\\\\n",
       "\\textbf{Covariance Type:}   &    nonrobust     & \\textbf{  LLR p-value:       } &    0.000    \\\\\n",
       "\\bottomrule\n",
       "\\end{tabular}\n",
       "\\begin{tabular}{lcccccc}\n",
       "                            & \\textbf{coef} & \\textbf{std err} & \\textbf{z} & \\textbf{P$> |$z$|$} & \\textbf{[0.025} & \\textbf{0.975]}  \\\\\n",
       "\\midrule\n",
       "\\textbf{const}              &    -491.9685  &       24.311     &   -20.237  &         0.000        &     -539.617    &     -444.320     \\\\\n",
       "\\textbf{Year}               &       0.0961  &        0.006     &    15.624  &         0.000        &        0.084    &        0.108     \\\\\n",
       "\\textbf{Week}               &       0.1554  &        0.005     &    29.107  &         0.000        &        0.145    &        0.166     \\\\\n",
       "\\textbf{Mosquito number}    &       0.0677  &        0.001     &    46.827  &         0.000        &        0.065    &        0.071     \\\\\n",
       "\\textbf{Lat}                &      -0.7300  &        0.285     &    -2.564  &         0.010        &       -1.288    &       -0.172     \\\\\n",
       "\\textbf{Lon}                &      -3.6685  &        0.333     &   -11.031  &         0.000        &       -4.320    &       -3.017     \\\\\n",
       "\\textbf{TrapType\\_GRAVID}   &       0.0973  &        0.131     &     0.744  &         0.457        &       -0.159    &        0.354     \\\\\n",
       "\\textbf{TrapType\\_OVI}      &     -13.6242  &     6886.258     &    -0.002  &         0.998        &    -1.35e+04    &     1.35e+04     \\\\\n",
       "\\textbf{TrapType\\_SENTINEL} &      -0.3036  &        0.215     &    -1.410  &         0.159        &       -0.726    &        0.118     \\\\\n",
       "\\bottomrule\n",
       "\\end{tabular}\n",
       "%\\caption{Logit Regression Results}\n",
       "\\end{center}"
      ],
      "text/plain": [
       "<class 'statsmodels.iolib.summary.Summary'>\n",
       "\"\"\"\n",
       "                           Logit Regression Results                           \n",
       "==============================================================================\n",
       "Dep. Variable:            WNV Present   No. Observations:                18495\n",
       "Model:                          Logit   Df Residuals:                    18486\n",
       "Method:                           MLE   Df Model:                            8\n",
       "Date:                Tue, 05 Mar 2024   Pseudo R-squ.:                  0.2125\n",
       "Time:                        23:22:24   Log-Likelihood:                -7599.3\n",
       "converged:                      False   LL-Null:                       -9649.5\n",
       "Covariance Type:            nonrobust   LLR p-value:                     0.000\n",
       "=====================================================================================\n",
       "                        coef    std err          z      P>|z|      [0.025      0.975]\n",
       "-------------------------------------------------------------------------------------\n",
       "const              -491.9685     24.311    -20.237      0.000    -539.617    -444.320\n",
       "Year                  0.0961      0.006     15.624      0.000       0.084       0.108\n",
       "Week                  0.1554      0.005     29.107      0.000       0.145       0.166\n",
       "Mosquito number       0.0677      0.001     46.827      0.000       0.065       0.071\n",
       "Lat                  -0.7300      0.285     -2.564      0.010      -1.288      -0.172\n",
       "Lon                  -3.6685      0.333    -11.031      0.000      -4.320      -3.017\n",
       "TrapType_GRAVID       0.0973      0.131      0.744      0.457      -0.159       0.354\n",
       "TrapType_OVI        -13.6242   6886.258     -0.002      0.998   -1.35e+04    1.35e+04\n",
       "TrapType_SENTINEL    -0.3036      0.215     -1.410      0.159      -0.726       0.118\n",
       "=====================================================================================\n",
       "\"\"\""
      ]
     },
     "execution_count": 38,
     "metadata": {},
     "output_type": "execute_result"
    }
   ],
   "source": [
    "# Instantiate and fit the logistic regression model\n",
    "logit_model = sm.Logit(y, X_withconstant)\n",
    "logit_results = logit_model.fit()\n",
    "\n",
    "# Display the summary of the logistic regression model\n",
    "logit_model_summary = logit_results.summary()\n",
    "\n",
    "logit_model_summary"
   ]
  },
  {
   "cell_type": "code",
   "execution_count": 39,
   "id": "373c91f8-434c-487b-8e01-1b94f6446b61",
   "metadata": {
    "tags": []
   },
   "outputs": [
    {
     "data": {
      "text/plain": [
       "const               -491.968460\n",
       "Year                   0.096102\n",
       "Week                   0.155431\n",
       "Mosquito number        0.067738\n",
       "Lat                   -0.730000\n",
       "Lon                   -3.668502\n",
       "TrapType_GRAVID        0.097274\n",
       "TrapType_OVI         -13.624173\n",
       "TrapType_SENTINEL     -0.303597\n",
       "dtype: float64"
      ]
     },
     "execution_count": 39,
     "metadata": {},
     "output_type": "execute_result"
    }
   ],
   "source": [
    "logit_results.params"
   ]
  },
  {
   "cell_type": "markdown",
   "id": "56213afd-94f5-4621-86ef-44acb983e65b",
   "metadata": {
    "tags": []
   },
   "source": [
    "The coefficients for 'Year', 'Week', and 'Mosquito number' are statistically significant with p-values less than 0.05. This indicates that these variables have a significant relationship with the presence of WNV, as seen by:\n",
    "\n",
    "- 'Year': Each additional year is associated with a slight increase in the log odds of detecting WNV presence.\n",
    "- 'Week': Each additional week is associated with a higher likelihood of detecting WNV presence, which could reflect a seasonal trend.\n",
    "- 'Mosquito number': As expected, an increase in mosquito numbers is strongly associated with a higher likelihood of detecting WNV presence.\n",
    "\n",
    "The geographic coordinates ('Lat' and 'Lon') are statistically significant, indicating that there might be specific geographic areas that are more prone to having WNV.\n",
    "\n",
    "'Trap type' variables show different effects:\n",
    "    \n",
    "- 'Trap type_GRAVID' and 'Trap type_SENTINEL' are not statistically significant at the 0.05 level, indicating that after controlling for other factors, these trap types do not have a statistically significant association with the detection of WNV presence.\n",
    "- 'Trap type_OVI' has an extremely large negative coefficient, which is likely not meaningful due to the large standard error and could indicate a problem with the data for this variable."
   ]
  },
  {
   "cell_type": "code",
   "execution_count": 45,
   "id": "5f4a599d-ab5b-49f1-8a57-68e6a949ee8d",
   "metadata": {
    "tags": []
   },
   "outputs": [],
   "source": [
    "# Store the model's parameters in variables for interpretation\n",
    "beta0 = logit_results.params['const']\n",
    "beta1 = logit_results.params['Year']\n",
    "beta2 = logit_results.params['Week']\n",
    "beta3 = logit_results.params['Mosquito number']  # Mosquito number"
   ]
  },
  {
   "cell_type": "code",
   "execution_count": 53,
   "id": "43317b6d-97ad-4563-81c2-401afe45aca0",
   "metadata": {
    "tags": []
   },
   "outputs": [],
   "source": [
    "# Calculating odds ratios\n",
    "odds_ratio_const = np.exp(beta0)\n",
    "odds_ratio_year = np.exp(beta1)\n",
    "odds_ratio_week = np.exp(beta2)\n",
    "odds_ratio_mosquito_number = np.exp(beta3)"
   ]
  },
  {
   "cell_type": "code",
   "execution_count": 61,
   "id": "ade1eb67-1996-4613-80a6-e2fb7313c82a",
   "metadata": {
    "tags": []
   },
   "outputs": [],
   "source": [
    "# Display the odds ratios\n",
    "odds_ratios = {\n",
    "    'Odds ratio (const)': odds_ratio_const,\n",
    "    'Odds ratio (Year)': odds_ratio_year,\n",
    "    'Odds ratio (Week)': odds_ratio_week,\n",
    "    'Odds ratio (Mosquito number)': odds_ratio_mosquito_number\n",
    "}"
   ]
  },
  {
   "cell_type": "code",
   "execution_count": 62,
   "id": "dd9fceed-1e3b-489d-a51e-95e8429c6ea0",
   "metadata": {
    "tags": []
   },
   "outputs": [
    {
     "name": "stdout",
     "output_type": "stream",
     "text": [
      "[2.1918582037158846e-214, 1.100871802057808, 1.16816151330849, 1.0700849240104182]\n"
     ]
    }
   ],
   "source": [
    "odds_ratio_list = list(odds_ratios.values())\n",
    "print(odds_ratio_list)"
   ]
  },
  {
   "cell_type": "markdown",
   "id": "99be7794-3c47-4f22-8b67-4f0983aac438",
   "metadata": {},
   "source": [
    "**Odds Ratio (Constant)**:\n",
    "  - The odds ratio for the constant term is extremely small, close to zero.\n",
    "  - It's not meaningful on its own as the context of the model doesn't allow for a 'year' or 'week' of zero.\n",
    "\n",
    "**Odds Ratio (Year)**:\n",
    "  - Each year increase is associated with a 10% increase in the odds of WNV presence.\n",
    "  - This could mean WNV is becoming more common or detection is improving.\n",
    "\n",
    "**Odds Ratio (Week)**:\n",
    "  - Each additional week in the year is associated with a 17% increase in the odds of WNV presence.\n",
    "  - Suggests a seasonal trend, possibly related to mosquito activity and weather.\n",
    "\n",
    "**Odds Ratio (Mosquito Number)**:\n",
    "  - Each additional mosquito captured increases the odds of WNV presence by 7%.\n",
    "  - Indicates that higher mosquito counts are linked to a greater risk of WNV."
   ]
  },
  {
   "cell_type": "code",
   "execution_count": null,
   "id": "c11bccdf-5419-4a4b-b38e-4da43cdd1f72",
   "metadata": {},
   "outputs": [],
   "source": []
  }
 ],
 "metadata": {
  "kernelspec": {
   "display_name": "Python 3 (ipykernel)",
   "language": "python",
   "name": "python3"
  },
  "language_info": {
   "codemirror_mode": {
    "name": "ipython",
    "version": 3
   },
   "file_extension": ".py",
   "mimetype": "text/x-python",
   "name": "python",
   "nbconvert_exporter": "python",
   "pygments_lexer": "ipython3",
   "version": "3.11.5"
  }
 },
 "nbformat": 4,
 "nbformat_minor": 5
}
